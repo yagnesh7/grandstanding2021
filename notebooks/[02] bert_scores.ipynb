{
 "cells": [
  {
   "cell_type": "markdown",
   "id": "ddc42de3",
   "metadata": {},
   "source": [
    "## Packages"
   ]
  },
  {
   "cell_type": "code",
   "execution_count": null,
   "id": "ee98cc2f",
   "metadata": {},
   "outputs": [],
   "source": [
    "import os.path as osp\n",
    "from pathlib import Path\n",
    "from time import time\n",
    "import matplotlib.pyplot as plt\n",
    "\n",
    "import numpy as np\n",
    "import pandas as pd\n",
    "import librosa\n",
    "\n",
    "from IPython.display import Audio, clear_output, display"
   ]
  },
  {
   "cell_type": "code",
   "execution_count": null,
   "id": "417530d2",
   "metadata": {},
   "outputs": [],
   "source": [
    "import torch\n",
    "from transformers import BertTokenizer, BertForSequenceClassification"
   ]
  },
  {
   "cell_type": "markdown",
   "id": "8e1bc9c5",
   "metadata": {},
   "source": [
    "## Arguments"
   ]
  },
  {
   "cell_type": "code",
   "execution_count": null,
   "id": "8809c361",
   "metadata": {},
   "outputs": [],
   "source": [
    "bert_model = \"bert-base-uncased\"\n",
    "pretrained_model = \"../models/bert_pretrained/\"\n",
    "transcripts_path = \"../outputs/data_transcripts_v2.csv\"\n",
    "device = \"cpu\""
   ]
  },
  {
   "cell_type": "markdown",
   "id": "a895bd1c",
   "metadata": {},
   "source": [
    "## User-Defined Functions"
   ]
  },
  {
   "cell_type": "code",
   "execution_count": null,
   "id": "ea6b7f1d",
   "metadata": {},
   "outputs": [],
   "source": [
    "class GrandStand_Dataset(torch.utils.data.Dataset):\n",
    "    def __init__(self, encodings, labels, info):\n",
    "        self.encodings = encodings\n",
    "        self.labels = labels\n",
    "        self.info = info\n",
    "\n",
    "    def __getitem__(self, idx):\n",
    "        item = {key: torch.tensor(val[idx]) for key, val in self.encodings.items()}\n",
    "        item[\"labels\"] = torch.tensor(self.labels[idx])\n",
    "        item[\"info\"] = self.info[idx]\n",
    "        return item\n",
    "\n",
    "    def __len__(self):\n",
    "        return len(self.labels)"
   ]
  },
  {
   "cell_type": "markdown",
   "id": "6c39af86",
   "metadata": {},
   "source": [
    "## Load Transcript"
   ]
  },
  {
   "cell_type": "code",
   "execution_count": null,
   "id": "07b4d807",
   "metadata": {},
   "outputs": [],
   "source": [
    "transcripts = pd.read_csv(transcripts_path)\n",
    "transcripts.sample(n=5)"
   ]
  },
  {
   "cell_type": "code",
   "execution_count": null,
   "id": "53197400",
   "metadata": {},
   "outputs": [],
   "source": [
    "print(\"# Cases:\", transcripts[\"file\"].nunique())\n",
    "print(\"# Speech Segments:\", transcripts.shape[0])"
   ]
  },
  {
   "cell_type": "code",
   "execution_count": null,
   "id": "38397b57",
   "metadata": {},
   "outputs": [],
   "source": [
    "text = transcripts[\"text\"].tolist()\n",
    "metadata = transcripts.apply(lambda x: (x[\"file\"], x[\"line\"]), axis=1).tolist()\n",
    "fake_labels = [0 for i in range(transcripts.shape[0])]"
   ]
  },
  {
   "cell_type": "markdown",
   "id": "0c352ab1",
   "metadata": {},
   "source": [
    "## Load BERT Pre-Trained Weights"
   ]
  },
  {
   "cell_type": "code",
   "execution_count": null,
   "id": "faf279a2",
   "metadata": {},
   "outputs": [],
   "source": [
    "tokenizer = BertTokenizer.from_pretrained(bert_model)"
   ]
  },
  {
   "cell_type": "code",
   "execution_count": null,
   "id": "08940ede",
   "metadata": {},
   "outputs": [],
   "source": [
    "st = time()\n",
    "\n",
    "scotus_encoder = tokenizer(text, truncation=True, padding=True)\n",
    "scotus_dataset = GrandStand_Dataset(scotus_encoder, fake_labels, metadata)\n",
    "\n",
    "print(f\"{round(time() - st, 2)}s\")"
   ]
  },
  {
   "cell_type": "code",
   "execution_count": null,
   "id": "c9607002",
   "metadata": {},
   "outputs": [],
   "source": [
    "st = time()\n",
    "model = BertForSequenceClassification.from_pretrained(bert_model, num_labels=1)\n",
    "\n",
    "model.load_state_dict(torch.load(\"../models/bert_pretrained/BERTforGS\"))\n",
    "model.eval()\n",
    "model.to(device)\n",
    "\n",
    "print(f\"{round(time() - st, 2)}s\")"
   ]
  },
  {
   "cell_type": "markdown",
   "id": "fbd52621",
   "metadata": {},
   "source": [
    "## Generate Scores"
   ]
  },
  {
   "cell_type": "code",
   "execution_count": null,
   "id": "ca20283d",
   "metadata": {},
   "outputs": [],
   "source": [
    "st = time()\n",
    "\n",
    "inputs = []\n",
    "grandstanding_scores = []\n",
    "for i, batch in enumerate(scotus_dataset):\n",
    "    clear_output(wait=True)\n",
    "    print(\"Item\", i)\n",
    "    print(f\"Elapsed Time: {round(time() - st, 2)}s\")\n",
    "    with torch.no_grad():\n",
    "        input_ids = batch[\"input_ids\"].to(device)\n",
    "        attention_mask = batch[\"attention_mask\"].to(device)\n",
    "        file_info = batch[\"info\"]\n",
    "        outputs = model(\n",
    "            input_ids.reshape(1, -1), attention_mask=attention_mask.reshape(1, -1)\n",
    "        )\n",
    "        score = outputs.logits[0].item()\n",
    "        grandstanding_scores.append((file_info, score))\n",
    "\n",
    "print(f\"Total Time: {round(time() - st, 2)}s\")"
   ]
  },
  {
   "cell_type": "code",
   "execution_count": null,
   "id": "8b22cff1",
   "metadata": {},
   "outputs": [],
   "source": [
    "gs_df = pd.DataFrame(\n",
    "    data=[(i[0], i[1], s) for (i, s) in grandstanding_scores],\n",
    "    columns=[\"file\", \"line\", \"gs_score\"],\n",
    ")\n",
    "gs_df.sample(n=5)"
   ]
  },
  {
   "cell_type": "code",
   "execution_count": null,
   "id": "55495251",
   "metadata": {},
   "outputs": [],
   "source": [
    "_ = gs_df[\"gs_score\"].hist()"
   ]
  },
  {
   "cell_type": "code",
   "execution_count": null,
   "id": "57df9c56",
   "metadata": {},
   "outputs": [],
   "source": [
    "gs_df.to_csv(\"../outputs/bert_scores.csv\")"
   ]
  },
  {
   "cell_type": "code",
   "execution_count": null,
   "id": "8f33f08f",
   "metadata": {},
   "outputs": [],
   "source": []
  }
 ],
 "metadata": {
  "kernelspec": {
   "display_name": "Python 3 (ipykernel)",
   "language": "python",
   "name": "python3"
  },
  "language_info": {
   "codemirror_mode": {
    "name": "ipython",
    "version": 3
   },
   "file_extension": ".py",
   "mimetype": "text/x-python",
   "name": "python",
   "nbconvert_exporter": "python",
   "pygments_lexer": "ipython3",
   "version": "3.9.7"
  }
 },
 "nbformat": 4,
 "nbformat_minor": 5
}
