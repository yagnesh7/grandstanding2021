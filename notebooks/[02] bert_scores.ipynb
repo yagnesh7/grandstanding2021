{
 "cells": [
  {
   "cell_type": "markdown",
   "id": "ddc42de3",
   "metadata": {},
   "source": [
    "## Packages"
   ]
  },
  {
   "cell_type": "code",
   "execution_count": 1,
   "id": "ee98cc2f",
   "metadata": {},
   "outputs": [],
   "source": [
    "import os.path as osp\n",
    "from pathlib import Path\n",
    "from time import time\n",
    "import matplotlib.pyplot as plt\n",
    "\n",
    "import pandas as pd\n",
    "\n",
    "from IPython.display import clear_output"
   ]
  },
  {
   "cell_type": "code",
   "execution_count": 2,
   "id": "417530d2",
   "metadata": {},
   "outputs": [],
   "source": [
    "import torch\n",
    "from transformers import BertTokenizer, BertForSequenceClassification"
   ]
  },
  {
   "cell_type": "markdown",
   "id": "8e1bc9c5",
   "metadata": {},
   "source": [
    "## Arguments"
   ]
  },
  {
   "cell_type": "code",
   "execution_count": 3,
   "id": "8809c361",
   "metadata": {},
   "outputs": [],
   "source": [
    "bert_model = \"bert-base-uncased\"\n",
    "pretrained_model = (\n",
    "    \"../models/bert_pretrained/\"  # Expects the pre-trained weights to exist\n",
    ")\n",
    "transcripts_path = \"../outputs/all_transcripts.csv\"\n",
    "device = \"cpu\""
   ]
  },
  {
   "cell_type": "markdown",
   "id": "a895bd1c",
   "metadata": {},
   "source": [
    "## User-Defined Functions"
   ]
  },
  {
   "cell_type": "code",
   "execution_count": 4,
   "id": "ea6b7f1d",
   "metadata": {},
   "outputs": [],
   "source": [
    "class GrandStand_Dataset(torch.utils.data.Dataset):\n",
    "    def __init__(self, encodings, labels, info):\n",
    "        self.encodings = encodings\n",
    "        self.labels = labels\n",
    "        self.info = info\n",
    "\n",
    "    def __getitem__(self, idx):\n",
    "        item = {key: torch.tensor(val[idx]) for key, val in self.encodings.items()}\n",
    "        item[\"labels\"] = torch.tensor(self.labels[idx])\n",
    "        item[\"info\"] = self.info[idx]\n",
    "        return item\n",
    "\n",
    "    def __len__(self):\n",
    "        return len(self.labels)"
   ]
  },
  {
   "cell_type": "markdown",
   "id": "6c39af86",
   "metadata": {},
   "source": [
    "## Load Transcript"
   ]
  },
  {
   "cell_type": "code",
   "execution_count": 5,
   "id": "07b4d807",
   "metadata": {},
   "outputs": [
    {
     "data": {
      "text/html": [
       "<div>\n",
       "<style scoped>\n",
       "    .dataframe tbody tr th:only-of-type {\n",
       "        vertical-align: middle;\n",
       "    }\n",
       "\n",
       "    .dataframe tbody tr th {\n",
       "        vertical-align: top;\n",
       "    }\n",
       "\n",
       "    .dataframe thead th {\n",
       "        text-align: right;\n",
       "    }\n",
       "</style>\n",
       "<table border=\"1\" class=\"dataframe\">\n",
       "  <thead>\n",
       "    <tr style=\"text-align: right;\">\n",
       "      <th></th>\n",
       "      <th>file</th>\n",
       "      <th>line</th>\n",
       "      <th>start</th>\n",
       "      <th>end</th>\n",
       "      <th>speaker</th>\n",
       "      <th>speaker_role</th>\n",
       "      <th>word_count</th>\n",
       "      <th>duration</th>\n",
       "      <th>text</th>\n",
       "      <th>year</th>\n",
       "    </tr>\n",
       "  </thead>\n",
       "  <tbody>\n",
       "    <tr>\n",
       "      <th>218</th>\n",
       "      <td>12-1038</td>\n",
       "      <td>219</td>\n",
       "      <td>3489.301</td>\n",
       "      <td>3495.407</td>\n",
       "      <td>Elena_Kagan</td>\n",
       "      <td>scotus_justice</td>\n",
       "      <td>16</td>\n",
       "      <td>6.106</td>\n",
       "      <td>Was the litigation essentially like this one, ...</td>\n",
       "      <td>12</td>\n",
       "    </tr>\n",
       "    <tr>\n",
       "      <th>384</th>\n",
       "      <td>12-515</td>\n",
       "      <td>154</td>\n",
       "      <td>1744.627</td>\n",
       "      <td>1749.279</td>\n",
       "      <td>John_G_Roberts_Jr</td>\n",
       "      <td>scotus_justice</td>\n",
       "      <td>15</td>\n",
       "      <td>4.652</td>\n",
       "      <td>You as a tribe, you as a tribe would have no o...</td>\n",
       "      <td>12</td>\n",
       "    </tr>\n",
       "    <tr>\n",
       "      <th>497</th>\n",
       "      <td>12-682</td>\n",
       "      <td>71</td>\n",
       "      <td>1682.047</td>\n",
       "      <td>1691.018</td>\n",
       "      <td>Anthony_M_Kennedy</td>\n",
       "      <td>scotus_justice</td>\n",
       "      <td>27</td>\n",
       "      <td>8.971</td>\n",
       "      <td>Well, there are two things. Number one is it d...</td>\n",
       "      <td>12</td>\n",
       "    </tr>\n",
       "    <tr>\n",
       "      <th>196</th>\n",
       "      <td>12-1038</td>\n",
       "      <td>175</td>\n",
       "      <td>2822.735</td>\n",
       "      <td>2850.850</td>\n",
       "      <td>John_G_Roberts_Jr</td>\n",
       "      <td>scotus_justice</td>\n",
       "      <td>73</td>\n",
       "      <td>28.115</td>\n",
       "      <td>I thought you just answered the question from ...</td>\n",
       "      <td>12</td>\n",
       "    </tr>\n",
       "    <tr>\n",
       "      <th>180</th>\n",
       "      <td>12-1038</td>\n",
       "      <td>143</td>\n",
       "      <td>2319.361</td>\n",
       "      <td>2405.967</td>\n",
       "      <td>Stephen_G_Breyer</td>\n",
       "      <td>scotus_justice</td>\n",
       "      <td>246</td>\n",
       "      <td>86.606</td>\n",
       "      <td>Oh, that's what I don't understand. Let me pre...</td>\n",
       "      <td>12</td>\n",
       "    </tr>\n",
       "  </tbody>\n",
       "</table>\n",
       "</div>"
      ],
      "text/plain": [
       "        file  line     start       end            speaker    speaker_role  \\\n",
       "218  12-1038   219  3489.301  3495.407        Elena_Kagan  scotus_justice   \n",
       "384   12-515   154  1744.627  1749.279  John_G_Roberts_Jr  scotus_justice   \n",
       "497   12-682    71  1682.047  1691.018  Anthony_M_Kennedy  scotus_justice   \n",
       "196  12-1038   175  2822.735  2850.850  John_G_Roberts_Jr  scotus_justice   \n",
       "180  12-1038   143  2319.361  2405.967   Stephen_G_Breyer  scotus_justice   \n",
       "\n",
       "     word_count  duration                                               text  \\\n",
       "218          16     6.106  Was the litigation essentially like this one, ...   \n",
       "384          15     4.652  You as a tribe, you as a tribe would have no o...   \n",
       "497          27     8.971  Well, there are two things. Number one is it d...   \n",
       "196          73    28.115  I thought you just answered the question from ...   \n",
       "180         246    86.606  Oh, that's what I don't understand. Let me pre...   \n",
       "\n",
       "     year  \n",
       "218    12  \n",
       "384    12  \n",
       "497    12  \n",
       "196    12  \n",
       "180    12  "
      ]
     },
     "execution_count": 5,
     "metadata": {},
     "output_type": "execute_result"
    }
   ],
   "source": [
    "transcripts = pd.read_csv(transcripts_path)\n",
    "transcripts.sample(n=5)"
   ]
  },
  {
   "cell_type": "code",
   "execution_count": 6,
   "id": "53197400",
   "metadata": {},
   "outputs": [
    {
     "name": "stdout",
     "output_type": "stream",
     "text": [
      "# Cases: 5\n",
      "# Speech Segments: 565\n"
     ]
    }
   ],
   "source": [
    "print(\"# Cases:\", transcripts[\"file\"].nunique())\n",
    "print(\"# Speech Segments:\", transcripts.shape[0])"
   ]
  },
  {
   "cell_type": "code",
   "execution_count": 7,
   "id": "38397b57",
   "metadata": {},
   "outputs": [],
   "source": [
    "text = transcripts[\"text\"].tolist()\n",
    "metadata = transcripts.apply(lambda x: (x[\"file\"], x[\"line\"]), axis=1).tolist()\n",
    "fake_labels = [0 for i in range(transcripts.shape[0])]"
   ]
  },
  {
   "cell_type": "markdown",
   "id": "0c352ab1",
   "metadata": {},
   "source": [
    "## Load BERT Pre-Trained Weights"
   ]
  },
  {
   "cell_type": "code",
   "execution_count": 8,
   "id": "faf279a2",
   "metadata": {},
   "outputs": [],
   "source": [
    "tokenizer = BertTokenizer.from_pretrained(bert_model)"
   ]
  },
  {
   "cell_type": "code",
   "execution_count": 9,
   "id": "08940ede",
   "metadata": {},
   "outputs": [
    {
     "name": "stdout",
     "output_type": "stream",
     "text": [
      "0.47s\n"
     ]
    }
   ],
   "source": [
    "st = time()\n",
    "\n",
    "scotus_encoder = tokenizer(text, truncation=True, padding=True)\n",
    "scotus_dataset = GrandStand_Dataset(scotus_encoder, fake_labels, metadata)\n",
    "\n",
    "print(f\"{round(time() - st, 2)}s\")"
   ]
  },
  {
   "cell_type": "code",
   "execution_count": 10,
   "id": "c9607002",
   "metadata": {},
   "outputs": [
    {
     "name": "stderr",
     "output_type": "stream",
     "text": [
      "Some weights of the model checkpoint at bert-base-uncased were not used when initializing BertForSequenceClassification: ['cls.predictions.transform.LayerNorm.weight', 'cls.predictions.transform.LayerNorm.bias', 'cls.predictions.bias', 'cls.predictions.transform.dense.weight', 'cls.predictions.transform.dense.bias', 'cls.predictions.decoder.weight', 'cls.seq_relationship.weight', 'cls.seq_relationship.bias']\n",
      "- This IS expected if you are initializing BertForSequenceClassification from the checkpoint of a model trained on another task or with another architecture (e.g. initializing a BertForSequenceClassification model from a BertForPreTraining model).\n",
      "- This IS NOT expected if you are initializing BertForSequenceClassification from the checkpoint of a model that you expect to be exactly identical (initializing a BertForSequenceClassification model from a BertForSequenceClassification model).\n",
      "Some weights of BertForSequenceClassification were not initialized from the model checkpoint at bert-base-uncased and are newly initialized: ['classifier.weight', 'classifier.bias']\n",
      "You should probably TRAIN this model on a down-stream task to be able to use it for predictions and inference.\n"
     ]
    },
    {
     "name": "stdout",
     "output_type": "stream",
     "text": [
      "3.09s\n"
     ]
    }
   ],
   "source": [
    "st = time()\n",
    "model = BertForSequenceClassification.from_pretrained(bert_model, num_labels=1)\n",
    "\n",
    "model.load_state_dict(torch.load(f\"{pretrained_model}BERTforGS\"))\n",
    "model.eval()\n",
    "model.to(device)\n",
    "\n",
    "print(f\"{round(time() - st, 2)}s\")"
   ]
  },
  {
   "cell_type": "markdown",
   "id": "fbd52621",
   "metadata": {},
   "source": [
    "## Generate Scores"
   ]
  },
  {
   "cell_type": "code",
   "execution_count": 11,
   "id": "ca20283d",
   "metadata": {},
   "outputs": [
    {
     "name": "stdout",
     "output_type": "stream",
     "text": [
      "Item 564\n",
      "Elapsed Time: 542.99s\n",
      "Total Time: 543.91s\n"
     ]
    }
   ],
   "source": [
    "st = time()\n",
    "\n",
    "inputs = []\n",
    "grandstanding_scores = []\n",
    "for i, batch in enumerate(scotus_dataset):\n",
    "    clear_output(wait=True)\n",
    "    print(\"Item\", i)\n",
    "    print(f\"Elapsed Time: {round(time() - st, 2)}s\")\n",
    "    with torch.no_grad():\n",
    "        input_ids = batch[\"input_ids\"].to(device)\n",
    "        attention_mask = batch[\"attention_mask\"].to(device)\n",
    "        file_info = batch[\"info\"]\n",
    "        outputs = model(\n",
    "            input_ids.reshape(1, -1), attention_mask=attention_mask.reshape(1, -1)\n",
    "        )\n",
    "        score = outputs.logits[0].item()\n",
    "        grandstanding_scores.append((file_info, score))\n",
    "\n",
    "print(f\"Total Time: {round(time() - st, 2)}s\")"
   ]
  },
  {
   "cell_type": "code",
   "execution_count": 12,
   "id": "8b22cff1",
   "metadata": {},
   "outputs": [
    {
     "data": {
      "text/html": [
       "<div>\n",
       "<style scoped>\n",
       "    .dataframe tbody tr th:only-of-type {\n",
       "        vertical-align: middle;\n",
       "    }\n",
       "\n",
       "    .dataframe tbody tr th {\n",
       "        vertical-align: top;\n",
       "    }\n",
       "\n",
       "    .dataframe thead th {\n",
       "        text-align: right;\n",
       "    }\n",
       "</style>\n",
       "<table border=\"1\" class=\"dataframe\">\n",
       "  <thead>\n",
       "    <tr style=\"text-align: right;\">\n",
       "      <th></th>\n",
       "      <th>file</th>\n",
       "      <th>line</th>\n",
       "      <th>gs_score</th>\n",
       "    </tr>\n",
       "  </thead>\n",
       "  <tbody>\n",
       "    <tr>\n",
       "      <th>473</th>\n",
       "      <td>12-682</td>\n",
       "      <td>23</td>\n",
       "      <td>-0.472322</td>\n",
       "    </tr>\n",
       "    <tr>\n",
       "      <th>34</th>\n",
       "      <td>12-1036</td>\n",
       "      <td>68</td>\n",
       "      <td>-1.482435</td>\n",
       "    </tr>\n",
       "    <tr>\n",
       "      <th>317</th>\n",
       "      <td>12-515</td>\n",
       "      <td>23</td>\n",
       "      <td>-0.047869</td>\n",
       "    </tr>\n",
       "    <tr>\n",
       "      <th>190</th>\n",
       "      <td>12-1038</td>\n",
       "      <td>163</td>\n",
       "      <td>-0.232994</td>\n",
       "    </tr>\n",
       "    <tr>\n",
       "      <th>60</th>\n",
       "      <td>12-1036</td>\n",
       "      <td>120</td>\n",
       "      <td>0.012528</td>\n",
       "    </tr>\n",
       "  </tbody>\n",
       "</table>\n",
       "</div>"
      ],
      "text/plain": [
       "        file  line  gs_score\n",
       "473   12-682    23 -0.472322\n",
       "34   12-1036    68 -1.482435\n",
       "317   12-515    23 -0.047869\n",
       "190  12-1038   163 -0.232994\n",
       "60   12-1036   120  0.012528"
      ]
     },
     "execution_count": 12,
     "metadata": {},
     "output_type": "execute_result"
    }
   ],
   "source": [
    "gs_df = pd.DataFrame(\n",
    "    data=[(i[0], i[1], s) for (i, s) in grandstanding_scores],\n",
    "    columns=[\"file\", \"line\", \"gs_score\"],\n",
    ")\n",
    "gs_df.sample(n=5)"
   ]
  },
  {
   "cell_type": "code",
   "execution_count": 13,
   "id": "55495251",
   "metadata": {},
   "outputs": [
    {
     "data": {
      "image/png": "[encoded data removed]",
      "text/plain": [
       "<Figure size 432x288 with 1 Axes>"
      ]
     },
     "metadata": {
      "needs_background": "light"
     },
     "output_type": "display_data"
    }
   ],
   "source": [
    "_ = gs_df[\"gs_score\"].hist()"
   ]
  },
  {
   "cell_type": "code",
   "execution_count": 14,
   "id": "57df9c56",
   "metadata": {},
   "outputs": [],
   "source": [
    "gs_df.to_csv(\"../outputs/bert_scores.csv\")"
   ]
  },
  {
   "cell_type": "code",
   "execution_count": null,
   "id": "8f33f08f",
   "metadata": {},
   "outputs": [],
   "source": []
  }
 ],
 "metadata": {
  "kernelspec": {
   "display_name": "Python 3 (ipykernel)",
   "language": "python",
   "name": "python3"
  },
  "language_info": {
   "codemirror_mode": {
    "name": "ipython",
    "version": 3
   },
   "file_extension": ".py",
   "mimetype": "text/x-python",
   "name": "python",
   "nbconvert_exporter": "python",
   "pygments_lexer": "ipython3",
   "version": "3.9.7"
  }
 },
 "nbformat": 4,
 "nbformat_minor": 5
}
