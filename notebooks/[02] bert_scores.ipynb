{
 "cells": [
  {
   "cell_type": "markdown",
   "id": "ddc42de3",
   "metadata": {},
   "source": [
    "## Packages"
   ]
  },
  {
   "cell_type": "code",
   "execution_count": 96,
   "id": "ee98cc2f",
   "metadata": {},
   "outputs": [],
   "source": [
    "import os.path as osp\n",
    "from pathlib import Path\n",
    "from time import time\n",
    "import matplotlib.pyplot as plt\n",
    "\n",
    "import numpy as np\n",
    "import pandas as pd\n",
    "import librosa\n",
    "\n",
    "from IPython.display import Audio, clear_output, display"
   ]
  },
  {
   "cell_type": "code",
   "execution_count": 2,
   "id": "417530d2",
   "metadata": {},
   "outputs": [],
   "source": [
    "import torch\n",
    "from transformers import BertTokenizer, BertForSequenceClassification"
   ]
  },
  {
   "cell_type": "markdown",
   "id": "8e1bc9c5",
   "metadata": {},
   "source": [
    "## Arguments"
   ]
  },
  {
   "cell_type": "code",
   "execution_count": 27,
   "id": "8809c361",
   "metadata": {},
   "outputs": [],
   "source": [
    "bert_model = \"bert-base-uncased\"\n",
    "pretrained_model = \"../models/bert_pretrained/\"\n",
    "transcripts_path = \"../outputs/all_transcripts.csv\"\n",
    "device = \"cpu\""
   ]
  },
  {
   "cell_type": "markdown",
   "id": "a895bd1c",
   "metadata": {},
   "source": [
    "## User-Defined Functions"
   ]
  },
  {
   "cell_type": "code",
   "execution_count": 15,
   "id": "ea6b7f1d",
   "metadata": {},
   "outputs": [],
   "source": [
    "class GrandStand_Dataset(torch.utils.data.Dataset):\n",
    "    def __init__(self, encodings, labels, info):\n",
    "        self.encodings = encodings\n",
    "        self.labels = labels\n",
    "        self.info = info\n",
    "\n",
    "    def __getitem__(self, idx):\n",
    "        item = {key: torch.tensor(val[idx]) for key, val in self.encodings.items()}\n",
    "        item[\"labels\"] = torch.tensor(self.labels[idx])\n",
    "        item[\"info\"] = self.info[idx]\n",
    "        return item\n",
    "\n",
    "    def __len__(self):\n",
    "        return len(self.labels)"
   ]
  },
  {
   "cell_type": "markdown",
   "id": "6c39af86",
   "metadata": {},
   "source": [
    "## Load Transcript"
   ]
  },
  {
   "cell_type": "code",
   "execution_count": 7,
   "id": "07b4d807",
   "metadata": {},
   "outputs": [
    {
     "data": {
      "text/html": [
       "<div>\n",
       "<style scoped>\n",
       "    .dataframe tbody tr th:only-of-type {\n",
       "        vertical-align: middle;\n",
       "    }\n",
       "\n",
       "    .dataframe tbody tr th {\n",
       "        vertical-align: top;\n",
       "    }\n",
       "\n",
       "    .dataframe thead th {\n",
       "        text-align: right;\n",
       "    }\n",
       "</style>\n",
       "<table border=\"1\" class=\"dataframe\">\n",
       "  <thead>\n",
       "    <tr style=\"text-align: right;\">\n",
       "      <th></th>\n",
       "      <th>Unnamed: 0</th>\n",
       "      <th>file</th>\n",
       "      <th>line</th>\n",
       "      <th>speaker</th>\n",
       "      <th>start</th>\n",
       "      <th>end</th>\n",
       "      <th>duration</th>\n",
       "      <th>start_idx</th>\n",
       "      <th>end_idx</th>\n",
       "      <th>text</th>\n",
       "    </tr>\n",
       "  </thead>\n",
       "  <tbody>\n",
       "    <tr>\n",
       "      <th>1669</th>\n",
       "      <td>45</td>\n",
       "      <td>19-968.wav</td>\n",
       "      <td>239</td>\n",
       "      <td>Sonia_Sotomayor</td>\n",
       "      <td>4048.92</td>\n",
       "      <td>4105.00</td>\n",
       "      <td>56.08</td>\n",
       "      <td>64782720</td>\n",
       "      <td>65680000</td>\n",
       "      <td>-- my -- my problem, counsel, is that then you...</td>\n",
       "    </tr>\n",
       "    <tr>\n",
       "      <th>812</th>\n",
       "      <td>1</td>\n",
       "      <td>19-351.wav</td>\n",
       "      <td>9</td>\n",
       "      <td>Clarence_Thomas</td>\n",
       "      <td>244.40</td>\n",
       "      <td>296.88</td>\n",
       "      <td>52.48</td>\n",
       "      <td>3910400</td>\n",
       "      <td>4750080</td>\n",
       "      <td>Thank you, Mr. Chief Justice. Counsel, the -- ...</td>\n",
       "    </tr>\n",
       "    <tr>\n",
       "      <th>108</th>\n",
       "      <td>21</td>\n",
       "      <td>18-1447.wav</td>\n",
       "      <td>128</td>\n",
       "      <td>Neil_Gorsuch</td>\n",
       "      <td>2340.52</td>\n",
       "      <td>2382.56</td>\n",
       "      <td>42.04</td>\n",
       "      <td>37448320</td>\n",
       "      <td>38120960</td>\n",
       "      <td>Mr. Snyder, I guess I'm curious about this: Is...</td>\n",
       "    </tr>\n",
       "    <tr>\n",
       "      <th>1466</th>\n",
       "      <td>3</td>\n",
       "      <td>19-8709.wav</td>\n",
       "      <td>25</td>\n",
       "      <td>Stephen_G_Breyer</td>\n",
       "      <td>645.26</td>\n",
       "      <td>683.18</td>\n",
       "      <td>37.92</td>\n",
       "      <td>10324160</td>\n",
       "      <td>10930880</td>\n",
       "      <td>That's why I asked what's the trial record. Yo...</td>\n",
       "    </tr>\n",
       "    <tr>\n",
       "      <th>2053</th>\n",
       "      <td>1</td>\n",
       "      <td>20-315.wav</td>\n",
       "      <td>4</td>\n",
       "      <td>John_G_Roberts_Jr</td>\n",
       "      <td>215.08</td>\n",
       "      <td>244.74</td>\n",
       "      <td>29.66</td>\n",
       "      <td>3441280</td>\n",
       "      <td>3915840</td>\n",
       "      <td>Well, but usually -- I mean, there are other p...</td>\n",
       "    </tr>\n",
       "  </tbody>\n",
       "</table>\n",
       "</div>"
      ],
      "text/plain": [
       "      Unnamed: 0         file  line            speaker    start      end  \\\n",
       "1669          45   19-968.wav   239    Sonia_Sotomayor  4048.92  4105.00   \n",
       "812            1   19-351.wav     9    Clarence_Thomas   244.40   296.88   \n",
       "108           21  18-1447.wav   128       Neil_Gorsuch  2340.52  2382.56   \n",
       "1466           3  19-8709.wav    25   Stephen_G_Breyer   645.26   683.18   \n",
       "2053           1   20-315.wav     4  John_G_Roberts_Jr   215.08   244.74   \n",
       "\n",
       "      duration  start_idx   end_idx  \\\n",
       "1669     56.08   64782720  65680000   \n",
       "812      52.48    3910400   4750080   \n",
       "108      42.04   37448320  38120960   \n",
       "1466     37.92   10324160  10930880   \n",
       "2053     29.66    3441280   3915840   \n",
       "\n",
       "                                                   text  \n",
       "1669  -- my -- my problem, counsel, is that then you...  \n",
       "812   Thank you, Mr. Chief Justice. Counsel, the -- ...  \n",
       "108   Mr. Snyder, I guess I'm curious about this: Is...  \n",
       "1466  That's why I asked what's the trial record. Yo...  \n",
       "2053  Well, but usually -- I mean, there are other p...  "
      ]
     },
     "execution_count": 7,
     "metadata": {},
     "output_type": "execute_result"
    }
   ],
   "source": [
    "transcripts = pd.read_csv(transcripts_path)\n",
    "transcripts.sample(n=5)"
   ]
  },
  {
   "cell_type": "code",
   "execution_count": 8,
   "id": "53197400",
   "metadata": {},
   "outputs": [
    {
     "name": "stdout",
     "output_type": "stream",
     "text": [
      "# Cases: 56\n",
      "# Speech Segments: 2545\n"
     ]
    }
   ],
   "source": [
    "print(\"# Cases:\", transcripts[\"file\"].nunique())\n",
    "print(\"# Speech Segments:\", transcripts.shape[0])"
   ]
  },
  {
   "cell_type": "code",
   "execution_count": 12,
   "id": "38397b57",
   "metadata": {},
   "outputs": [],
   "source": [
    "text = transcripts[\"text\"].tolist()\n",
    "metadata = transcripts.apply(lambda x: (x[\"file\"], x[\"line\"]), axis=1).tolist()\n",
    "fake_labels = [0 for i in range(transcripts.shape[0])]"
   ]
  },
  {
   "cell_type": "markdown",
   "id": "0c352ab1",
   "metadata": {},
   "source": [
    "## Load BERT Pre-Trained Weights"
   ]
  },
  {
   "cell_type": "code",
   "execution_count": 11,
   "id": "faf279a2",
   "metadata": {},
   "outputs": [],
   "source": [
    "tokenizer = BertTokenizer.from_pretrained(bert_model)"
   ]
  },
  {
   "cell_type": "code",
   "execution_count": 84,
   "id": "08940ede",
   "metadata": {},
   "outputs": [
    {
     "name": "stdout",
     "output_type": "stream",
     "text": [
      "4.34s\n"
     ]
    }
   ],
   "source": [
    "st = time()\n",
    "\n",
    "scotus_encoder = tokenizer(text, truncation=True, padding=True)\n",
    "scotus_dataset = GrandStand_Dataset(scotus_encoder, fake_labels, metadata)\n",
    "\n",
    "print(f\"{round(time() - st, 2)}s\")"
   ]
  },
  {
   "cell_type": "code",
   "execution_count": 85,
   "id": "c9607002",
   "metadata": {},
   "outputs": [
    {
     "name": "stderr",
     "output_type": "stream",
     "text": [
      "Some weights of the model checkpoint at bert-base-uncased were not used when initializing BertForSequenceClassification: ['cls.predictions.bias', 'cls.predictions.transform.LayerNorm.weight', 'cls.predictions.transform.dense.weight', 'cls.seq_relationship.weight', 'cls.seq_relationship.bias', 'cls.predictions.transform.dense.bias', 'cls.predictions.decoder.weight', 'cls.predictions.transform.LayerNorm.bias']\n",
      "- This IS expected if you are initializing BertForSequenceClassification from the checkpoint of a model trained on another task or with another architecture (e.g. initializing a BertForSequenceClassification model from a BertForPreTraining model).\n",
      "- This IS NOT expected if you are initializing BertForSequenceClassification from the checkpoint of a model that you expect to be exactly identical (initializing a BertForSequenceClassification model from a BertForSequenceClassification model).\n",
      "Some weights of BertForSequenceClassification were not initialized from the model checkpoint at bert-base-uncased and are newly initialized: ['classifier.bias', 'classifier.weight']\n",
      "You should probably TRAIN this model on a down-stream task to be able to use it for predictions and inference.\n"
     ]
    },
    {
     "name": "stdout",
     "output_type": "stream",
     "text": [
      "1.73s\n"
     ]
    }
   ],
   "source": [
    "st = time()\n",
    "model = BertForSequenceClassification.from_pretrained(bert_model, num_labels=1)\n",
    "\n",
    "model.load_state_dict(torch.load(\"../models/bert_pretrained/BERTforGS\"))\n",
    "model.eval()\n",
    "model.to(device)\n",
    "\n",
    "print(f\"{round(time() - st, 2)}s\")"
   ]
  },
  {
   "cell_type": "markdown",
   "id": "fbd52621",
   "metadata": {},
   "source": [
    "## Generate Scores"
   ]
  },
  {
   "cell_type": "code",
   "execution_count": null,
   "id": "ca20283d",
   "metadata": {},
   "outputs": [],
   "source": [
    "st = time()\n",
    "\n",
    "inputs = []\n",
    "grandstanding_scores = []\n",
    "for i, batch in enumerate(scotus_dataset):\n",
    "    if i % 10 == 0:\n",
    "        clear_output(wait=True)\n",
    "        print(\"Item\", i)\n",
    "        print(f\"Elapsed Time: {round(time() - st, 2)}s\")\n",
    "    with torch.no_grad():\n",
    "        input_ids = batch[\"input_ids\"].to(device)\n",
    "        attention_mask = batch[\"attention_mask\"].to(device)\n",
    "        file_info = batch[\"info\"]\n",
    "        outputs = model(\n",
    "            input_ids.reshape(1, -1), attention_mask=attention_mask.reshape(1, -1)\n",
    "        )\n",
    "        score = outputs.logits[0].item()\n",
    "        grandstanding_scores.append((file_info, score))\n",
    "\n",
    "print(f\"Total Time: {round(time() - st, 2)}s\")"
   ]
  },
  {
   "cell_type": "code",
   "execution_count": 90,
   "id": "8b22cff1",
   "metadata": {},
   "outputs": [
    {
     "data": {
      "text/html": [
       "<div>\n",
       "<style scoped>\n",
       "    .dataframe tbody tr th:only-of-type {\n",
       "        vertical-align: middle;\n",
       "    }\n",
       "\n",
       "    .dataframe tbody tr th {\n",
       "        vertical-align: top;\n",
       "    }\n",
       "\n",
       "    .dataframe thead th {\n",
       "        text-align: right;\n",
       "    }\n",
       "</style>\n",
       "<table border=\"1\" class=\"dataframe\">\n",
       "  <thead>\n",
       "    <tr style=\"text-align: right;\">\n",
       "      <th></th>\n",
       "      <th>file</th>\n",
       "      <th>line</th>\n",
       "      <th>gs_score</th>\n",
       "    </tr>\n",
       "  </thead>\n",
       "  <tbody>\n",
       "    <tr>\n",
       "      <th>2300</th>\n",
       "      <td>20-444.wav</td>\n",
       "      <td>97</td>\n",
       "      <td>-0.387948</td>\n",
       "    </tr>\n",
       "    <tr>\n",
       "      <th>1213</th>\n",
       "      <td>19-547.wav</td>\n",
       "      <td>66</td>\n",
       "      <td>-0.677721</td>\n",
       "    </tr>\n",
       "    <tr>\n",
       "      <th>2541</th>\n",
       "      <td>65-orig.wav</td>\n",
       "      <td>165</td>\n",
       "      <td>0.143898</td>\n",
       "    </tr>\n",
       "    <tr>\n",
       "      <th>197</th>\n",
       "      <td>18-956.wav</td>\n",
       "      <td>182</td>\n",
       "      <td>-0.593576</td>\n",
       "    </tr>\n",
       "    <tr>\n",
       "      <th>897</th>\n",
       "      <td>19-357.wav</td>\n",
       "      <td>224</td>\n",
       "      <td>0.204544</td>\n",
       "    </tr>\n",
       "  </tbody>\n",
       "</table>\n",
       "</div>"
      ],
      "text/plain": [
       "             file  line  gs_score\n",
       "2300   20-444.wav    97 -0.387948\n",
       "1213   19-547.wav    66 -0.677721\n",
       "2541  65-orig.wav   165  0.143898\n",
       "197    18-956.wav   182 -0.593576\n",
       "897    19-357.wav   224  0.204544"
      ]
     },
     "execution_count": 90,
     "metadata": {},
     "output_type": "execute_result"
    }
   ],
   "source": [
    "gs_df = pd.DataFrame(\n",
    "    data=[(i[0], i[1], s) for (i, s) in grandstanding_scores],\n",
    "    columns=[\"file\", \"line\", \"gs_score\"],\n",
    ")\n",
    "gs_df.sample(n=5)"
   ]
  },
  {
   "cell_type": "code",
   "execution_count": 95,
   "id": "55495251",
   "metadata": {},
   "outputs": [
    {
     "data": {
      "image/png": "[encoded data removed]",
      "text/plain": [
       "<Figure size 432x288 with 1 Axes>"
      ]
     },
     "metadata": {
      "needs_background": "light"
     },
     "output_type": "display_data"
    }
   ],
   "source": [
    "_ = gs_df[\"gs_score\"].hist()"
   ]
  },
  {
   "cell_type": "code",
   "execution_count": 91,
   "id": "57df9c56",
   "metadata": {},
   "outputs": [],
   "source": [
    "gs_df.to_csv(\"../outputs/bert_scores.csv\")"
   ]
  }
 ],
 "metadata": {
  "kernelspec": {
   "display_name": "Python 3 (ipykernel)",
   "language": "python",
   "name": "python3"
  },
  "language_info": {
   "codemirror_mode": {
    "name": "ipython",
    "version": 3
   },
   "file_extension": ".py",
   "mimetype": "text/x-python",
   "name": "python",
   "nbconvert_exporter": "python",
   "pygments_lexer": "ipython3",
   "version": "3.9.7"
  }
 },
 "nbformat": 4,
 "nbformat_minor": 5
}
