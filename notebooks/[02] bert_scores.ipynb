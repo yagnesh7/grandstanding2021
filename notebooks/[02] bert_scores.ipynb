{
 "cells": [
  {
   "cell_type": "markdown",
   "id": "ddc42de3",
   "metadata": {},
   "source": [
    "## Packages"
   ]
  },
  {
   "cell_type": "code",
   "execution_count": 17,
   "id": "ee98cc2f",
   "metadata": {},
   "outputs": [],
   "source": [
    "import os.path as osp\n",
    "from pathlib import Path\n",
    "from time import time\n",
    "import matplotlib.pyplot as plt\n",
    "\n",
    "import numpy as np\n",
    "import pandas as pd\n",
    "import librosa\n",
    "\n",
    "from IPython.display import Audio, clear_output, display"
   ]
  },
  {
   "cell_type": "code",
   "execution_count": 18,
   "id": "417530d2",
   "metadata": {},
   "outputs": [],
   "source": [
    "import torch\n",
    "from transformers import BertTokenizer, BertForSequenceClassification"
   ]
  },
  {
   "cell_type": "markdown",
   "id": "8e1bc9c5",
   "metadata": {},
   "source": [
    "## Arguments"
   ]
  },
  {
   "cell_type": "code",
   "execution_count": 19,
   "id": "8809c361",
   "metadata": {},
   "outputs": [],
   "source": [
    "bert_model = \"bert-base-uncased\"\n",
    "pretrained_model = (\n",
    "    \"../models/bert_pretrained/\"  # Expects the pre-trained weights to exist\n",
    ")\n",
    "transcripts_path = \"../outputs/all_transcripts_v2.csv\"\n",
    "device = \"cpu\""
   ]
  },
  {
   "cell_type": "markdown",
   "id": "a895bd1c",
   "metadata": {},
   "source": [
    "## User-Defined Functions"
   ]
  },
  {
   "cell_type": "code",
   "execution_count": 20,
   "id": "ea6b7f1d",
   "metadata": {},
   "outputs": [],
   "source": [
    "class GrandStand_Dataset(torch.utils.data.Dataset):\n",
    "    def __init__(self, encodings, labels, info):\n",
    "        self.encodings = encodings\n",
    "        self.labels = labels\n",
    "        self.info = info\n",
    "\n",
    "    def __getitem__(self, idx):\n",
    "        item = {key: torch.tensor(val[idx]) for key, val in self.encodings.items()}\n",
    "        item[\"labels\"] = torch.tensor(self.labels[idx])\n",
    "        item[\"info\"] = self.info[idx]\n",
    "        return item\n",
    "\n",
    "    def __len__(self):\n",
    "        return len(self.labels)"
   ]
  },
  {
   "cell_type": "markdown",
   "id": "6c39af86",
   "metadata": {},
   "source": [
    "## Load Transcript"
   ]
  },
  {
   "cell_type": "code",
   "execution_count": 21,
   "id": "07b4d807",
   "metadata": {},
   "outputs": [
    {
     "data": {
      "text/html": [
       "<div>\n",
       "<style scoped>\n",
       "    .dataframe tbody tr th:only-of-type {\n",
       "        vertical-align: middle;\n",
       "    }\n",
       "\n",
       "    .dataframe tbody tr th {\n",
       "        vertical-align: top;\n",
       "    }\n",
       "\n",
       "    .dataframe thead th {\n",
       "        text-align: right;\n",
       "    }\n",
       "</style>\n",
       "<table border=\"1\" class=\"dataframe\">\n",
       "  <thead>\n",
       "    <tr style=\"text-align: right;\">\n",
       "      <th></th>\n",
       "      <th>file</th>\n",
       "      <th>line</th>\n",
       "      <th>start</th>\n",
       "      <th>end</th>\n",
       "      <th>speaker</th>\n",
       "      <th>speaker_role</th>\n",
       "      <th>word_count</th>\n",
       "      <th>duration</th>\n",
       "      <th>text</th>\n",
       "    </tr>\n",
       "  </thead>\n",
       "  <tbody>\n",
       "    <tr>\n",
       "      <th>96</th>\n",
       "      <td>12-1036</td>\n",
       "      <td>191</td>\n",
       "      <td>3448.946</td>\n",
       "      <td>3453.195</td>\n",
       "      <td>Antonin_Scalia</td>\n",
       "      <td>scotus_justice</td>\n",
       "      <td>10</td>\n",
       "      <td>4.249</td>\n",
       "      <td>Did not the Fifth Circuit decide that State la...</td>\n",
       "    </tr>\n",
       "    <tr>\n",
       "      <th>43</th>\n",
       "      <td>12-1036</td>\n",
       "      <td>86</td>\n",
       "      <td>1683.706</td>\n",
       "      <td>1710.290</td>\n",
       "      <td>Sonia_Sotomayor</td>\n",
       "      <td>scotus_justice</td>\n",
       "      <td>59</td>\n",
       "      <td>26.584</td>\n",
       "      <td>So how do you remand a case when it involves u...</td>\n",
       "    </tr>\n",
       "    <tr>\n",
       "      <th>257</th>\n",
       "      <td>12-138</td>\n",
       "      <td>73</td>\n",
       "      <td>2003.816</td>\n",
       "      <td>2029.166</td>\n",
       "      <td>Elena_Kagan</td>\n",
       "      <td>scotus_justice</td>\n",
       "      <td>64</td>\n",
       "      <td>25.350</td>\n",
       "      <td>Because you read this through your brief, and ...</td>\n",
       "    </tr>\n",
       "    <tr>\n",
       "      <th>458</th>\n",
       "      <td>12-515</td>\n",
       "      <td>296</td>\n",
       "      <td>3621.849</td>\n",
       "      <td>3646.082</td>\n",
       "      <td>Stephen_G_Breyer</td>\n",
       "      <td>scotus_justice</td>\n",
       "      <td>75</td>\n",
       "      <td>24.233</td>\n",
       "      <td>They didn't participate in the convention and ...</td>\n",
       "    </tr>\n",
       "    <tr>\n",
       "      <th>222</th>\n",
       "      <td>12-138</td>\n",
       "      <td>4</td>\n",
       "      <td>72.212</td>\n",
       "      <td>126.164</td>\n",
       "      <td>Sonia_Sotomayor</td>\n",
       "      <td>scotus_justice</td>\n",
       "      <td>128</td>\n",
       "      <td>53.952</td>\n",
       "      <td>All right. So if the issue is what did the par...</td>\n",
       "    </tr>\n",
       "  </tbody>\n",
       "</table>\n",
       "</div>"
      ],
      "text/plain": [
       "        file  line     start       end           speaker    speaker_role  \\\n",
       "96   12-1036   191  3448.946  3453.195    Antonin_Scalia  scotus_justice   \n",
       "43   12-1036    86  1683.706  1710.290   Sonia_Sotomayor  scotus_justice   \n",
       "257   12-138    73  2003.816  2029.166       Elena_Kagan  scotus_justice   \n",
       "458   12-515   296  3621.849  3646.082  Stephen_G_Breyer  scotus_justice   \n",
       "222   12-138     4    72.212   126.164   Sonia_Sotomayor  scotus_justice   \n",
       "\n",
       "     word_count  duration                                               text  \n",
       "96           10     4.249  Did not the Fifth Circuit decide that State la...  \n",
       "43           59    26.584  So how do you remand a case when it involves u...  \n",
       "257          64    25.350  Because you read this through your brief, and ...  \n",
       "458          75    24.233  They didn't participate in the convention and ...  \n",
       "222         128    53.952  All right. So if the issue is what did the par...  "
      ]
     },
     "execution_count": 21,
     "metadata": {},
     "output_type": "execute_result"
    }
   ],
   "source": [
    "transcripts = pd.read_csv(transcripts_path)\n",
    "transcripts.sample(n=5)"
   ]
  },
  {
   "cell_type": "code",
   "execution_count": 22,
   "id": "53197400",
   "metadata": {},
   "outputs": [
    {
     "name": "stdout",
     "output_type": "stream",
     "text": [
      "# Cases: 5\n",
      "# Speech Segments: 565\n"
     ]
    }
   ],
   "source": [
    "print(\"# Cases:\", transcripts[\"file\"].nunique())\n",
    "print(\"# Speech Segments:\", transcripts.shape[0])"
   ]
  },
  {
   "cell_type": "code",
   "execution_count": 23,
   "id": "38397b57",
   "metadata": {},
   "outputs": [],
   "source": [
    "text = transcripts[\"text\"].tolist()\n",
    "metadata = transcripts.apply(lambda x: (x[\"file\"], x[\"line\"]), axis=1).tolist()\n",
    "fake_labels = [0 for i in range(transcripts.shape[0])]"
   ]
  },
  {
   "cell_type": "markdown",
   "id": "0c352ab1",
   "metadata": {},
   "source": [
    "## Load BERT Pre-Trained Weights"
   ]
  },
  {
   "cell_type": "code",
   "execution_count": 24,
   "id": "faf279a2",
   "metadata": {},
   "outputs": [],
   "source": [
    "tokenizer = BertTokenizer.from_pretrained(bert_model)"
   ]
  },
  {
   "cell_type": "code",
   "execution_count": 25,
   "id": "08940ede",
   "metadata": {},
   "outputs": [
    {
     "name": "stdout",
     "output_type": "stream",
     "text": [
      "0.41s\n"
     ]
    }
   ],
   "source": [
    "st = time()\n",
    "\n",
    "scotus_encoder = tokenizer(text, truncation=True, padding=True)\n",
    "scotus_dataset = GrandStand_Dataset(scotus_encoder, fake_labels, metadata)\n",
    "\n",
    "print(f\"{round(time() - st, 2)}s\")"
   ]
  },
  {
   "cell_type": "code",
   "execution_count": 26,
   "id": "c9607002",
   "metadata": {},
   "outputs": [
    {
     "name": "stderr",
     "output_type": "stream",
     "text": [
      "Some weights of the model checkpoint at bert-base-uncased were not used when initializing BertForSequenceClassification: ['cls.predictions.transform.dense.weight', 'cls.predictions.decoder.weight', 'cls.predictions.transform.dense.bias', 'cls.predictions.bias', 'cls.predictions.transform.LayerNorm.weight', 'cls.seq_relationship.weight', 'cls.seq_relationship.bias', 'cls.predictions.transform.LayerNorm.bias']\n",
      "- This IS expected if you are initializing BertForSequenceClassification from the checkpoint of a model trained on another task or with another architecture (e.g. initializing a BertForSequenceClassification model from a BertForPreTraining model).\n",
      "- This IS NOT expected if you are initializing BertForSequenceClassification from the checkpoint of a model that you expect to be exactly identical (initializing a BertForSequenceClassification model from a BertForSequenceClassification model).\n",
      "Some weights of BertForSequenceClassification were not initialized from the model checkpoint at bert-base-uncased and are newly initialized: ['classifier.weight', 'classifier.bias']\n",
      "You should probably TRAIN this model on a down-stream task to be able to use it for predictions and inference.\n"
     ]
    },
    {
     "name": "stdout",
     "output_type": "stream",
     "text": [
      "1.86s\n"
     ]
    }
   ],
   "source": [
    "st = time()\n",
    "model = BertForSequenceClassification.from_pretrained(bert_model, num_labels=1)\n",
    "\n",
    "model.load_state_dict(torch.load(\"../models/bert_pretrained/BERTforGS\"))\n",
    "model.eval()\n",
    "model.to(device)\n",
    "\n",
    "print(f\"{round(time() - st, 2)}s\")"
   ]
  },
  {
   "cell_type": "markdown",
   "id": "fbd52621",
   "metadata": {},
   "source": [
    "## Generate Scores"
   ]
  },
  {
   "cell_type": "code",
   "execution_count": 27,
   "id": "ca20283d",
   "metadata": {},
   "outputs": [
    {
     "name": "stdout",
     "output_type": "stream",
     "text": [
      "Item 564\n",
      "Elapsed Time: 438.54s\n",
      "Total Time: 439.34s\n"
     ]
    }
   ],
   "source": [
    "st = time()\n",
    "\n",
    "inputs = []\n",
    "grandstanding_scores = []\n",
    "for i, batch in enumerate(scotus_dataset):\n",
    "    clear_output(wait=True)\n",
    "    print(\"Item\", i)\n",
    "    print(f\"Elapsed Time: {round(time() - st, 2)}s\")\n",
    "    with torch.no_grad():\n",
    "        input_ids = batch[\"input_ids\"].to(device)\n",
    "        attention_mask = batch[\"attention_mask\"].to(device)\n",
    "        file_info = batch[\"info\"]\n",
    "        outputs = model(\n",
    "            input_ids.reshape(1, -1), attention_mask=attention_mask.reshape(1, -1)\n",
    "        )\n",
    "        score = outputs.logits[0].item()\n",
    "        grandstanding_scores.append((file_info, score))\n",
    "\n",
    "print(f\"Total Time: {round(time() - st, 2)}s\")"
   ]
  },
  {
   "cell_type": "code",
   "execution_count": 28,
   "id": "8b22cff1",
   "metadata": {},
   "outputs": [
    {
     "data": {
      "text/html": [
       "<div>\n",
       "<style scoped>\n",
       "    .dataframe tbody tr th:only-of-type {\n",
       "        vertical-align: middle;\n",
       "    }\n",
       "\n",
       "    .dataframe tbody tr th {\n",
       "        vertical-align: top;\n",
       "    }\n",
       "\n",
       "    .dataframe thead th {\n",
       "        text-align: right;\n",
       "    }\n",
       "</style>\n",
       "<table border=\"1\" class=\"dataframe\">\n",
       "  <thead>\n",
       "    <tr style=\"text-align: right;\">\n",
       "      <th></th>\n",
       "      <th>file</th>\n",
       "      <th>line</th>\n",
       "      <th>gs_score</th>\n",
       "    </tr>\n",
       "  </thead>\n",
       "  <tbody>\n",
       "    <tr>\n",
       "      <th>425</th>\n",
       "      <td>12-515</td>\n",
       "      <td>233</td>\n",
       "      <td>-1.352348</td>\n",
       "    </tr>\n",
       "    <tr>\n",
       "      <th>318</th>\n",
       "      <td>12-515</td>\n",
       "      <td>25</td>\n",
       "      <td>0.152592</td>\n",
       "    </tr>\n",
       "    <tr>\n",
       "      <th>141</th>\n",
       "      <td>12-1038</td>\n",
       "      <td>70</td>\n",
       "      <td>-0.233303</td>\n",
       "    </tr>\n",
       "    <tr>\n",
       "      <th>282</th>\n",
       "      <td>12-138</td>\n",
       "      <td>121</td>\n",
       "      <td>-0.111669</td>\n",
       "    </tr>\n",
       "    <tr>\n",
       "      <th>357</th>\n",
       "      <td>12-515</td>\n",
       "      <td>101</td>\n",
       "      <td>-0.778577</td>\n",
       "    </tr>\n",
       "  </tbody>\n",
       "</table>\n",
       "</div>"
      ],
      "text/plain": [
       "        file  line  gs_score\n",
       "425   12-515   233 -1.352348\n",
       "318   12-515    25  0.152592\n",
       "141  12-1038    70 -0.233303\n",
       "282   12-138   121 -0.111669\n",
       "357   12-515   101 -0.778577"
      ]
     },
     "execution_count": 28,
     "metadata": {},
     "output_type": "execute_result"
    }
   ],
   "source": [
    "gs_df = pd.DataFrame(\n",
    "    data=[(i[0], i[1], s) for (i, s) in grandstanding_scores],\n",
    "    columns=[\"file\", \"line\", \"gs_score\"],\n",
    ")\n",
    "gs_df.sample(n=5)"
   ]
  },
  {
   "cell_type": "code",
   "execution_count": 29,
   "id": "55495251",
   "metadata": {},
   "outputs": [
    {
     "data": {
      "image/png": "[encoded data removed]",
      "text/plain": [
       "<Figure size 432x288 with 1 Axes>"
      ]
     },
     "metadata": {
      "needs_background": "light"
     },
     "output_type": "display_data"
    }
   ],
   "source": [
    "_ = gs_df[\"gs_score\"].hist()"
   ]
  },
  {
   "cell_type": "code",
   "execution_count": 30,
   "id": "57df9c56",
   "metadata": {},
   "outputs": [],
   "source": [
    "gs_df.to_csv(\"../outputs/bert_scores.csv\")"
   ]
  },
  {
   "cell_type": "code",
   "execution_count": null,
   "id": "8f33f08f",
   "metadata": {},
   "outputs": [],
   "source": []
  }
 ],
 "metadata": {
  "kernelspec": {
   "display_name": "Python 3 (ipykernel)",
   "language": "python",
   "name": "python3"
  },
  "language_info": {
   "codemirror_mode": {
    "name": "ipython",
    "version": 3
   },
   "file_extension": ".py",
   "mimetype": "text/x-python",
   "name": "python",
   "nbconvert_exporter": "python",
   "pygments_lexer": "ipython3",
   "version": "3.9.7"
  }
 },
 "nbformat": 4,
 "nbformat_minor": 5
}
